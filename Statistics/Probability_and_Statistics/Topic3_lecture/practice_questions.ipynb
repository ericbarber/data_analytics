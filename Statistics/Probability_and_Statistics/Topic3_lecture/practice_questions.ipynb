{
 "cells": [
  {
   "cell_type": "markdown",
   "metadata": {},
   "source": [
    "### Practice question 1\n",
    "\n",
    "In a highschool graduation exam 70% of examinees passed the English exam,\n",
    "76% passed the math exam, and 66% passed both. If 40 examinees failed \n",
    "in both subjects, what is the total number of examinees?"
   ]
  },
  {
   "cell_type": "code",
   "execution_count": null,
   "metadata": {},
   "outputs": [],
   "source": [
    "total_examinees = 40 + test_passers\n",
    "test_passers = 70% total_examinees + 76% total_examinees - 66% over-acheivers"
   ]
  },
  {
   "cell_type": "code",
   "execution_count": 9,
   "metadata": {},
   "outputs": [
    {
     "name": "stdout",
     "output_type": "stream",
     "text": [
      "80\n",
      "20\n"
     ]
    }
   ],
   "source": [
    "a = 70\n",
    "b = 76\n",
    "c = 66\n",
    "alessc = a - c\n",
    "blessc = b - c\n",
    "passers =  c + alessc + blessc\n",
    "print(passers)\n",
    "less = 100 - (c + alessc + blessc)\n",
    "print(less)"
   ]
  },
  {
   "cell_type": "markdown",
   "metadata": {},
   "source": [
    "### Pratice Question 2\n",
    "\n",
    "How many  5 -digit ternary strings are there without  4  consecutive  0 s,  1 s or  2 s?\n",
    "\n",
    "For example,  01210  and  11211  are counted, but  20000 ,  11112 , and  22222  are excluded."
   ]
  },
  {
   "cell_type": "code",
   "execution_count": 45,
   "metadata": {
    "scrolled": false
   },
   "outputs": [
    {
     "name": "stdout",
     "output_type": "stream",
     "text": [
      "Total 5 digit strings: 243 \n",
      " Acceptable 5 digit strings: 228 <-- Wrong number, why? \n",
      " Rejected 5 digit strings: 15\n"
     ]
    }
   ],
   "source": [
    "# print all 5 tertinary strings\n",
    "D = {0,1,2}\n",
    "D5 = set()\n",
    "keepers = set()\n",
    "four_con = set()\n",
    "for a in D:\n",
    "    for b in D:\n",
    "        for c in D:\n",
    "            for d in D:\n",
    "                for e in D:\n",
    "                    D5.add(str(a) + str(b) + str(c) + str(d) + str(e))\n",
    "                    \n",
    "                    if a == b == c == d:\n",
    "                        four_con.add(str(a) + str(b) + str(c) + str(d) + str(e))\n",
    "                    elif b == c == d == e:\n",
    "                        four_con.add(str(a) + str(b) + str(c) + str(d) + str(e))\n",
    "                    else:\n",
    "                        keepers.add(str(a) + str(b) + str(c) + str(d) + str(e))\n",
    "                        \n",
    "print('Total 5 digit strings:',len(D5),'\\n',\n",
    "      \"Acceptable 5 digit strings:\",len(keepers),'<-- Wrong number, why?','\\n',\n",
    "      'Rejected 5 digit strings:',len(four_con))\n",
    "\n",
    "# print(sorted(keepers))\n",
    "# print(sorted(four_con))"
   ]
  },
  {
   "cell_type": "markdown",
   "metadata": {},
   "source": [
    "### Practice Question 3\n",
    "In the US, telephone numbers are 7-digit long. While real phone numbers have some restrictions, for example, they cannot start with 0 or 1, here we assume that all 7-digit sequences are possible, even 0000000.\n",
    "\n",
    "How many phone numbers:\n",
    "\n",
    "- start or end with two identical digits, for example 0012345, 1234511, or 2222222?\n",
    "\n",
    "- contain a substring of  5  consecutive digits. For example 0034567, 2567892, or 0123456?\n",
    "\n",
    "- start and stop witn identical digits 02463830, 12463831, 22463832"
   ]
  },
  {
   "cell_type": "code",
   "execution_count": 43,
   "metadata": {},
   "outputs": [
    {
     "data": {
      "text/plain": [
       "1000000"
      ]
     },
     "execution_count": 43,
     "metadata": {},
     "output_type": "execute_result"
    }
   ],
   "source": [
    "two_identical = 10 * 10**5\n",
    "two_identical"
   ]
  },
  {
   "cell_type": "code",
   "execution_count": 44,
   "metadata": {},
   "outputs": [
    {
     "data": {
      "text/plain": [
       "1800"
      ]
     },
     "execution_count": 44,
     "metadata": {},
     "output_type": "execute_result"
    }
   ],
   "source": [
    "runs = 6 # runs : 01234, 12345, 23456, 34657, 45678, 56789\n",
    "starts = 3 # starts : Sssssxx, xSssssx, xxSssss\n",
    "variants = 10**2 # variants : x's in starts have 9-digits to cicle through\n",
    "answer = runs*starts*variants\n",
    "answer"
   ]
  },
  {
   "cell_type": "code",
   "execution_count": null,
   "metadata": {},
   "outputs": [],
   "source": [
    "myset.add(( ( (var for var in start) for start in run) for run in runs))"
   ]
  },
  {
   "cell_type": "code",
   "execution_count": 53,
   "metadata": {},
   "outputs": [],
   "source": [
    "D = [0,1,2,3,4,5,6,7,8,9]\n",
    "D7 = set()\n",
    "two_digit_being_or_end = set()\n",
    "start_stop = set()\n",
    "run_of_5 = set()\n",
    "for a in D:\n",
    "    for b in D:\n",
    "        for c in D:\n",
    "            for d in D:\n",
    "                for e in D:\n",
    "                    for f in D:\n",
    "                        for g in D:\n",
    "                            # Create set of all 7-digitt strings\n",
    "                            D7.add(str(a) + str(b) + str(c) + str(d) + str(e) + str(f) + str(g))\n",
    "                            # test for two identical digits at beging or end\n",
    "                            if a == b or f ==g:\n",
    "                                two_digit_being_or_end.add(str(a) + str(b) + str(c) + str(d) + str(e) + str(f) + str(g))\n",
    "                            # test for same start stop\n",
    "                            if a == g:\n",
    "                                start_stop.add(str(a) + str(b) + str(c) + str(d) + str(e) + str(f) + str(g))\n",
    "                            # test for runs\n",
    "                            if (\n",
    "                                b == a+1 and\n",
    "                                c == b+1 and\n",
    "                                d == c+1 and\n",
    "                                e == d+1 \n",
    "                                ) or (\n",
    "                                c == b+1 and\n",
    "                                d == c+1 and\n",
    "                                e == d+1 and\n",
    "                                f == e+1 \n",
    "                                ) or (\n",
    "                                d == c+1 and\n",
    "                                e == d+1 and\n",
    "                                f == e+1 and\n",
    "                                g == f+1 \n",
    "                                ):\n",
    "                                    run_of_5.add(str(a) + str(b) + str(c) + str(d) + str(e) + str(f) + str(g))\n",
    "                                \n",
    "                                \n"
   ]
  },
  {
   "cell_type": "code",
   "execution_count": 54,
   "metadata": {},
   "outputs": [
    {
     "data": {
      "text/plain": [
       "(10000000, '\\n', 1900000, '\\n', 1000000, '\\n', 1700)"
      ]
     },
     "execution_count": 54,
     "metadata": {},
     "output_type": "execute_result"
    }
   ],
   "source": [
    "len(D7),'\\n',len(two_digit_being_or_end),'\\n',len(start_stop),'\\n',len(run_of_5)"
   ]
  },
  {
   "cell_type": "code",
   "execution_count": null,
   "metadata": {},
   "outputs": [],
   "source": [
    "D2 = {A,B}\n",
    "result = set()\n",
    "for a in D:\n",
    "    for b in D:\n",
    "        for c in D:\n",
    "            for d in D:\n",
    "                for e in D:\n",
    "                    result.add(str(a) + str(b) + str(c) + str(d) + str(e))\n",
    "\n",
    "# (str(a) + str(b) + str(c) + str(d) + str(e))"
   ]
  }
 ],
 "metadata": {
  "kernelspec": {
   "display_name": "Python 3",
   "language": "python",
   "name": "python3"
  },
  "language_info": {
   "codemirror_mode": {
    "name": "ipython",
    "version": 3
   },
   "file_extension": ".py",
   "mimetype": "text/x-python",
   "name": "python",
   "nbconvert_exporter": "python",
   "pygments_lexer": "ipython3",
   "version": "3.7.3"
  }
 },
 "nbformat": 4,
 "nbformat_minor": 2
}
